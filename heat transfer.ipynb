{
  "metadata": {
    "kernelspec": {
      "name": "python",
      "display_name": "Python (Pyodide)",
      "language": "python"
    },
    "language_info": {
      "codemirror_mode": {
        "name": "python",
        "version": 3
      },
      "file_extension": ".py",
      "mimetype": "text/x-python",
      "name": "python",
      "nbconvert_exporter": "python",
      "pygments_lexer": "ipython3",
      "version": "3.8"
    }
  },
  "nbformat_minor": 5,
  "nbformat": 4,
  "cells": [
    {
      "id": "120d3578-08ca-4707-97b8-47ae5f12d33a",
      "cell_type": "code",
      "source": "#heat leaving purifier from conduction and radiation during purification\n\n\n#purifier\ntube_od = 3 * 0.0254 #inches to meters\ntube_thickness = 0.067 * 0.0254 #inches to meters\ntube_id = tube_od - (2 * tube_thickness)\ntube_length = (9 + 11) * 0.0254\ntube_temp = 473 #kelvin (200C)\noutside_temp = 298 #kelvin\ntube_area = 3.14 * tube_od * tube_length\n\n#radiation heat transfer equation\nemissivity_coeff = 0.6 #stainless steel\nstefan_boltz = 5.6307e-8 #(W/(m^2K^4))\n\n#heat loss of purifier from radiation during regen\nheat_loss_rad = emissivity_coeff * stefan_boltz * tube_area * (tube_temp**4 - outside_temp**4)\n\nheat_loss_rad #watts?\n",
      "metadata": {
        "trusted": true
      },
      "outputs": [
        {
          "execution_count": 2,
          "output_type": "execute_result",
          "data": {
            "text/plain": "173.16107711970326"
          },
          "metadata": {}
        }
      ],
      "execution_count": 2
    },
    {
      "id": "92641900-97ba-4ae9-837f-8e5e49f294df",
      "cell_type": "code",
      "source": "",
      "metadata": {
        "trusted": true
      },
      "outputs": [],
      "execution_count": null
    }
  ]
}